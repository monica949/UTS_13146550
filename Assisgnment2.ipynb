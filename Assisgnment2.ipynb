{
  "nbformat": 4,
  "nbformat_minor": 0,
  "metadata": {
    "colab": {
      "name": "Untitled0.ipynb",
      "provenance": [],
      "authorship_tag": "ABX9TyOeDVAddhHj7v7h4xraKJ1B",
      "include_colab_link": true
    },
    "kernelspec": {
      "name": "python3",
      "display_name": "Python 3"
    }
  },
  "cells": [
    {
      "cell_type": "markdown",
      "metadata": {
        "id": "view-in-github",
        "colab_type": "text"
      },
      "source": [
        "<a href=\"https://colab.research.google.com/github/monica949/UTS_13146550/blob/main/Assisgnment2.ipynb\" target=\"_parent\"><img src=\"https://colab.research.google.com/assets/colab-badge.svg\" alt=\"Open In Colab\"/></a>"
      ]
    },
    {
      "cell_type": "code",
      "metadata": {
        "id": "WBMW41KTHSKj"
      },
      "source": [
        "\n",
        "from sklearn.datasets import load_iris\n"
      ],
      "execution_count": 4,
      "outputs": []
    },
    {
      "cell_type": "code",
      "metadata": {
        "id": "W3VrVm_aHi_C"
      },
      "source": [
        "db\n"
      ],
      "execution_count": null,
      "outputs": []
    },
    {
      "cell_type": "code",
      "metadata": {
        "id": "0yHBvD4LOOST"
      },
      "source": [
        ""
      ],
      "execution_count": null,
      "outputs": []
    },
    {
      "cell_type": "code",
      "metadata": {
        "id": "qNI_bbuNHvg0"
      },
      "source": [
        "class TreeNode:\n",
        "  def __init__(self, samples, target):\n",
        "    self.decision = None\n",
        "    self.samples=samples\n",
        "    self.target= target\n",
        "    self.split_attribute = None\n",
        "         \n",
        "\n",
        "class TreeID3:\n",
        "  def __int__(self):\n",
        "    self.root = None\n",
        "\n",
        "  def fit(self, samples, target):\n",
        "    self.root = TreeNode(samples, target)\n",
        "    self.root.make()\n"
      ],
      "execution_count": 19,
      "outputs": []
    },
    {
      "cell_type": "code",
      "metadata": {
        "id": "BJRJNgisH9Kk"
      },
      "source": [
        "\n",
        "\n"
      ],
      "execution_count": 11,
      "outputs": []
    },
    {
      "cell_type": "code",
      "metadata": {
        "id": "Q-00VhJPIJ6q"
      },
      "source": [
        "\n"
      ],
      "execution_count": 12,
      "outputs": []
    }
  ]
}